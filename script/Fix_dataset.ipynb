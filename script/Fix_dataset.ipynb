{
 "cells": [
  {
   "cell_type": "code",
   "execution_count": 1,
   "id": "ed477409-7044-4035-9508-ef8088201dc9",
   "metadata": {
    "tags": []
   },
   "outputs": [],
   "source": [
    "!python fix_coco_annotator_format.py"
   ]
  },
  {
   "cell_type": "code",
   "execution_count": 21,
   "id": "deb5f772-6a16-4a37-9f8e-3ff46637af34",
   "metadata": {
    "tags": []
   },
   "outputs": [],
   "source": [
    "!python change_filename.py"
   ]
  },
  {
   "cell_type": "code",
   "execution_count": 22,
   "id": "fb021c21-0263-4a1c-8dc0-ba2acdd9393f",
   "metadata": {
    "tags": []
   },
   "outputs": [],
   "source": [
    "!python merge_coco.py"
   ]
  },
  {
   "cell_type": "code",
   "execution_count": 2,
   "id": "9c0c2e64-f32e-479f-9475-e38c9384f62d",
   "metadata": {
    "tags": []
   },
   "outputs": [
    {
     "name": "stdout",
     "output_type": "stream",
     "text": [
      "Saved 844 entries in train_kidsize_3.json and 212 in val_test_kidsize_3.json\n"
     ]
    }
   ],
   "source": [
    "!python ../../cocosplit/cocosplit.py --having-annotations -s 0.9 train_kidsize/merge.json train_kidsize_2.json val_kidsize_2.json"
   ]
  },
  {
   "cell_type": "markdown",
   "id": "31d9d202-37ed-4129-9efb-c85f34b8d655",
   "metadata": {},
   "source": [
    "## Merge with Nimbro Dataset"
   ]
  },
  {
   "cell_type": "code",
   "execution_count": 3,
   "id": "c6f2821b-3386-4007-8be2-7a650d3c051e",
   "metadata": {
    "tags": []
   },
   "outputs": [
    {
     "name": "stdout",
     "output_type": "stream",
     "text": [
      "Saved 844 entries in train_kidsize_3.json and 212 in val_test_kidsize_3.json\n"
     ]
    }
   ],
   "source": [
    "!python ../../cocosplit/cocosplit.py --having-annotations -s 0.8 train_kidsize/merge.json train_kidsize_3.json val_test_kidsize_3.json"
   ]
  },
  {
   "cell_type": "code",
   "execution_count": 5,
   "id": "75aa7109-ee01-48a4-a3fc-6fab1862b69b",
   "metadata": {
    "tags": []
   },
   "outputs": [
    {
     "name": "stdout",
     "output_type": "stream",
     "text": [
      "Saved 106 entries in val_kidsize_3.json and 106 in test_kidsize_3.json\n"
     ]
    }
   ],
   "source": [
    "!python ../../cocosplit/cocosplit.py --having-annotations -s 0.5 val_test_kidsize_3.json val_kidsize_3.json test_kidsize_3.json"
   ]
  },
  {
   "cell_type": "code",
   "execution_count": 49,
   "id": "aa4abcfc-264a-485d-b668-acd81d819e83",
   "metadata": {
    "tags": []
   },
   "outputs": [],
   "source": [
    "# sort json[image]\n",
    "import json\n",
    "\n",
    "dir_jsons = 'val'\n",
    "file_name = 'val_kidsize_3'\n",
    "path_to_file_name = f'{dir_jsons}/{file_name}.json'\n",
    "json_file = json.load(open(path_to_file_name))\n",
    "json_file['images'].sort(key=lambda item: item['id'])\n",
    "# json_file['images']\n",
    "with open(f'{dir_jsons}/{file_name}_fix.json', \"w\") as outfile:\n",
    "    json_object = json.dumps(json_file)\n",
    "    outfile.write(json_object)"
   ]
  },
  {
   "cell_type": "code",
   "execution_count": 44,
   "id": "168e6b23-2175-4c1a-9d3f-70843205364f",
   "metadata": {
    "tags": []
   },
   "outputs": [],
   "source": [
    "# sort json[annotation]\n",
    "import json\n",
    "\n",
    "dir_jsons = 'train'\n",
    "file_name = 'robot_keypoints_train_fixed'\n",
    "path_to_file_name = f'{dir_jsons}/{file_name}.json'\n",
    "json_file = json.load(open(path_to_file_name))\n",
    "json_file['annotations'].sort(key=lambda item: item['id'])\n",
    "# json_file['images']\n",
    "with open(f'{dir_jsons}/{file_name}_fix.json', \"w\") as outfile:\n",
    "    json_object = json.dumps(json_file)\n",
    "    outfile.write(json_object)"
   ]
  },
  {
   "cell_type": "code",
   "execution_count": 52,
   "id": "a90b557b-948f-4f4c-bf87-b1053c754e92",
   "metadata": {
    "tags": []
   },
   "outputs": [],
   "source": [
    "!python merge_coco.py"
   ]
  },
  {
   "cell_type": "code",
   "execution_count": 19,
   "id": "da8ddad9-d073-4e14-9dcc-bd372b37759c",
   "metadata": {
    "tags": []
   },
   "outputs": [
    {
     "name": "stdout",
     "output_type": "stream",
     "text": [
      "1_train_kidsize_3.json\n",
      "robot_keypoints_train_fixed.json\n"
     ]
    }
   ],
   "source": [
    "import os\n",
    "json_files = [pos_json for pos_json in os.listdir('train') if pos_json.endswith('.json')]\n",
    "json_files.sort(key=lambda x: os.path.getmtime(f'train/{x}'), reverse=True)\n",
    "for file in json_files:\n",
    "    print(file)"
   ]
  }
 ],
 "metadata": {
  "kernelspec": {
   "display_name": "Python 3 (ipykernel)",
   "language": "python",
   "name": "python3"
  },
  "language_info": {
   "codemirror_mode": {
    "name": "ipython",
    "version": 3
   },
   "file_extension": ".py",
   "mimetype": "text/x-python",
   "name": "python",
   "nbconvert_exporter": "python",
   "pygments_lexer": "ipython3",
   "version": "3.10.6"
  }
 },
 "nbformat": 4,
 "nbformat_minor": 5
}
